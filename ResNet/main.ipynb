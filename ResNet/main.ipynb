{
  "nbformat": 4,
  "nbformat_minor": 0,
  "metadata": {
    "colab": {
      "provenance": [],
      "gpuType": "T4"
    },
    "kernelspec": {
      "name": "python3",
      "display_name": "Python 3"
    },
    "language_info": {
      "name": "python"
    },
    "accelerator": "GPU"
  },
  "cells": [
    {
      "cell_type": "code",
      "source": [
        "import sys\n",
        "sys.path.append('/content/drive/MyDrive/우동협/공부/논문구현/ResNetmodel')"
      ],
      "metadata": {
        "id": "NmxfGPGYdKky"
      },
      "execution_count": null,
      "outputs": []
    },
    {
      "cell_type": "code",
      "execution_count": null,
      "metadata": {
        "colab": {
          "base_uri": "https://localhost:8080/"
        },
        "id": "dsTlGf1AcpDc",
        "outputId": "590fe9b8-ca1d-43a4-b045-6ffada8e7c01"
      },
      "outputs": [
        {
          "output_type": "stream",
          "name": "stdout",
          "text": [
            "Using device: cuda\n"
          ]
        },
        {
          "output_type": "stream",
          "name": "stderr",
          "text": [
            "100%|██████████| 170M/170M [00:03<00:00, 44.2MB/s]\n"
          ]
        },
        {
          "output_type": "stream",
          "name": "stdout",
          "text": [
            "Epoch [1/10], Loss: 1.3347\n",
            "Epoch [2/10], Loss: 0.8080\n",
            "Epoch [3/10], Loss: 0.5995\n",
            "Epoch [4/10], Loss: 0.4770\n",
            "Epoch [5/10], Loss: 0.3792\n",
            "Epoch [6/10], Loss: 0.2939\n",
            "Epoch [7/10], Loss: 0.2186\n",
            "Epoch [8/10], Loss: 0.1597\n",
            "Epoch [9/10], Loss: 0.1154\n",
            "Epoch [10/10], Loss: 0.0915\n",
            "[Test] Loss: 0.6242, Accuracy: 84.97%\n"
          ]
        }
      ],
      "source": [
        "import torch\n",
        "import torch.nn as nn\n",
        "import torch.optim as optim\n",
        "from model import resnet18  # 모델 불러오기\n",
        "from cifar10 import get_cifar10_loaders  # 데이터 로더 불러오기\n",
        "from train import train  # 학습 함수\n",
        "from test_model import evaluate  # 평가 함수\n",
        "\n",
        "# 하이퍼파라미터 설정\n",
        "BATCH_SIZE = 64\n",
        "NUM_EPOCHS = 10\n",
        "LEARNING_RATE = 0.001\n",
        "IMAGE_SIZE = (224, 224)\n",
        "NUM_CLASSES = 10\n",
        "DEVICE = \"cuda\" if torch.cuda.is_available() else \"cpu\"\n",
        "\n",
        "def main():\n",
        "    print(f\"Using device: {DEVICE}\")\n",
        "\n",
        "    # 데이터 로딩\n",
        "    train_loader, test_loader = get_cifar10_loaders(\n",
        "        batch_size=BATCH_SIZE,\n",
        "        resize=IMAGE_SIZE\n",
        "    )\n",
        "\n",
        "    # 모델 초기화\n",
        "    model = resnet18(num_classes=NUM_CLASSES).to(DEVICE)\n",
        "\n",
        "    # 손실 함수 및 옵티마이저 정의\n",
        "    criterion = nn.CrossEntropyLoss()\n",
        "    optimizer = optim.Adam(model.parameters(), lr=LEARNING_RATE)\n",
        "\n",
        "    # 모델 학습\n",
        "    train(model, train_loader, criterion, optimizer, DEVICE, NUM_EPOCHS)\n",
        "\n",
        "    # 모델 평가\n",
        "    evaluate(model, test_loader, criterion, DEVICE)\n",
        "\n",
        "if __name__ == \"__main__\":\n",
        "    main()\n"
      ]
    }
  ]
}